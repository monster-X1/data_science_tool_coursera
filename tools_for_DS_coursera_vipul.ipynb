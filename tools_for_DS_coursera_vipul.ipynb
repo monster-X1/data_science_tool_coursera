{
 "cells": [
  {
   "cell_type": "markdown",
   "id": "c7ff0bff-243c-42a6-ae3a-e0e2dbf0224e",
   "metadata": {
    "tags": []
   },
   "source": [
    "Exercise 2: <h1> PEER GRADED ASSIGNMENT </h1>"
   ]
  },
  {
   "cell_type": "markdown",
   "id": "2018efdc-efaa-4dbb-8a1a-c41bf518178e",
   "metadata": {},
   "source": [
    "Exercise 3:\n",
    "## Introduction\n",
    "THIS IS MY PEER GRADED ASSIGNMENT FOR THE COURSE DATA SCIENCE IBM"
   ]
  },
  {
   "cell_type": "markdown",
   "id": "5de8123c-c9c3-412d-a6e2-69d9c4c4c91c",
   "metadata": {},
   "source": [
    "Exercise 4: Markdown cell to list data science languages:\n",
    "<ol>\n",
    "    <li>Python</li>\n",
    "    <li>JAVA</li>\n",
    "    <li>SQL</li>\n",
    "    <li>R</li>\n",
    "    <li>C/C++.</li>\n",
    "    <li>C#</li>\n",
    "    <li>PHP</li>\n",
    "</ol>"
   ]
  },
  {
   "cell_type": "markdown",
   "id": "05a95f0b-225c-4d9d-9cd8-0ff1adeac614",
   "metadata": {},
   "source": [
    "Exercise 5: Markdown cell to list data science libraries:\n",
    "<ol>\n",
    "    <li>Pandas</li>\n",
    "    <li>Matplotlib</li>\n",
    "    <li>Keras</li>\n",
    "    <li>PyTorch</li>   \n",
    "    <li>Tensorflow</li>\n",
    "    <li>NumPy</li>\n",
    "    <li>SciPy</li>\n",
    "    <li>SciKit-Learn</li>\n",
    "</ol>"
   ]
  },
  {
   "cell_type": "markdown",
   "id": "8f83dc66-982f-4355-9615-b5f1f04b4b26",
   "metadata": {},
   "source": [
    "Exercise 6 : Markdown cell with a table of Data Science tools.\n",
    "\n",
    "\n",
    "<table>\n",
    "  <tr>\n",
    "    <th>Name</th>\n",
    "    <th>Description</th>\n",
    "  </tr>\n",
    "  <tr>\n",
    "    <td>IBM Data Asset eXchange </td>\n",
    "    <td>contains high-quality open data sets</td>\n",
    "  </tr>\n",
    "  <tr>\n",
    "    <td>Apache Spark</td>\n",
    "    <td>General-purpose cluster-computing framework that allows you to process data using compute clusters</td>\n",
    "  </tr>\n",
    "  <tr>\n",
    "    <td>SAS</td>\n",
    "    <td>Designed for statistical operation</td>\n",
    "  </tr>\n",
    "</table>"
   ]
  },
  {
   "cell_type": "markdown",
   "id": "393693fa-5170-4180-bfc3-1c75ea145bf9",
   "metadata": {
    "tags": []
   },
   "source": [
    "#Exercise 7 : Create a markdown cell introducing arithmetic expression examples. \n",
    "\n",
    "2 + 2 = 4\n",
    "\n",
    "<p>3<sup>4</sup> = 81</p>"
   ]
  },
  {
   "cell_type": "code",
   "execution_count": 6,
   "id": "97b4dd7a-4099-4580-bdf7-ba44f5f3ba10",
   "metadata": {},
   "outputs": [
    {
     "name": "stdout",
     "output_type": "stream",
     "text": [
      "Number 1:  10\n",
      "Number 2:  2\n",
      "Multiplication:  20  and Addition:  12\n"
     ]
    }
   ],
   "source": [
    "#Exercise 8 : code cell to multiply and add numbers\n",
    "\n",
    "a = 10\n",
    "b = 2\n",
    "\n",
    "print(\"Number 1: \",a)\n",
    "print(\"Number 2: \",b)\n",
    "print(\"Multiplication: \",a*b,\" and Addition: \",a+b)\n",
    "\n"
   ]
  },
  {
   "cell_type": "code",
   "execution_count": 15,
   "id": "cc836c5c-fb3a-40e8-8a53-b8589783cef3",
   "metadata": {
    "tags": []
   },
   "outputs": [
    {
     "name": "stdout",
     "output_type": "stream",
     "text": [
      "minutes:  90\n",
      "in hours:  1.5\n"
     ]
    }
   ],
   "source": [
    "#exercise 9 : code cell to convert minutes to hours\n",
    "\n",
    "minutes = 90\n",
    "hours = 1.0*(minutes/60)\n",
    "\n",
    "print(\"minutes: \",minutes)\n",
    "print(\"in hours: \",hours)\n"
   ]
  },
  {
   "cell_type": "markdown",
   "id": "30a2fa7d-a8f0-4a0d-ac66-bc926b70677f",
   "metadata": {},
   "source": [
    "Exercise 10 : Markdown cell to list Objectives\n",
    "\n",
    "<h3> List of objectives </h3>\n",
    "<ol>\n",
    "    <li>Complete the Data Science Course</li>\n",
    "    <li>Finish the notes</li>\n",
    "    <li>Start practicing problems</li>\n",
    "</ol>\n",
    "\n"
   ]
  },
  {
   "cell_type": "markdown",
   "id": "89182974-097c-420b-9bda-17e62c3cb245",
   "metadata": {},
   "source": [
    "Exercise 11 : Create a markdown cell to indicate the Author’s name.\n",
    "\n",
    "<h3> Author: Vipul Banjarey <h3>"
   ]
  },
  {
   "cell_type": "code",
   "execution_count": null,
   "id": "f0253db8-d6eb-4beb-a11e-e5648405007e",
   "metadata": {},
   "outputs": [],
   "source": []
  },
  {
   "cell_type": "code",
   "execution_count": null,
   "id": "7d4b02b7-6597-44d3-9b7f-3d6609acff7c",
   "metadata": {},
   "outputs": [],
   "source": []
  },
  {
   "cell_type": "code",
   "execution_count": null,
   "id": "ac911f03-3068-4f24-97a5-c1305295685d",
   "metadata": {},
   "outputs": [],
   "source": []
  }
 ],
 "metadata": {
  "kernelspec": {
   "display_name": "Python",
   "language": "python",
   "name": "conda-env-python-py"
  },
  "language_info": {
   "codemirror_mode": {
    "name": "ipython",
    "version": 3
   },
   "file_extension": ".py",
   "mimetype": "text/x-python",
   "name": "python",
   "nbconvert_exporter": "python",
   "pygments_lexer": "ipython3",
   "version": "3.7.12"
  }
 },
 "nbformat": 4,
 "nbformat_minor": 5
}
