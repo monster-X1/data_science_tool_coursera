{
 "cells": [
  {
   "cell_type": "markdown",
   "id": "c7ff0bff-243c-42a6-ae3a-e0e2dbf0224e",
   "metadata": {
    "tags": []
   },
   "source": [
    "# Data Science Tools and Ecosystem"
   ]
  },
  {
   "cell_type": "markdown",
   "id": "2018efdc-efaa-4dbb-8a1a-c41bf518178e",
   "metadata": {},
   "source": [
    "In this notebook, Data Science Tools and Ecosystem are summarized."
   ]
  },
  {
   "cell_type": "markdown",
   "id": "5de8123c-c9c3-412d-a6e2-69d9c4c4c91c",
   "metadata": {},
   "source": [
    "Some of the popular languages that Data Scientists use are:\n",
    "<ol>\n",
    "    <li>Python</li>\n",
    "    <li>JAVA</li>\n",
    "    <li>SQL</li>\n",
    "    <li>R</li>\n",
    "    <li>C/C++.</li>\n",
    "    <li>C#</li>\n",
    "    <li>PHP</li>\n",
    "</ol>"
   ]
  },
  {
   "cell_type": "markdown",
   "id": "05a95f0b-225c-4d9d-9cd8-0ff1adeac614",
   "metadata": {},
   "source": [
    "Some of the commonly used libraries used by Data Scientists include:\n",
    "<ol>\n",
    "    <li>Pandas</li>\n",
    "    <li>Matplotlib</li>\n",
    "    <li>Keras</li>\n",
    "    <li>PyTorch</li>   \n",
    "    <li>Tensorflow</li>\n",
    "    <li>NumPy</li>\n",
    "    <li>SciPy</li>\n",
    "    <li>SciKit-Learn</li>\n",
    "</ol>"
   ]
  },
  {
   "cell_type": "markdown",
   "id": "8f83dc66-982f-4355-9615-b5f1f04b4b26",
   "metadata": {},
   "source": [
    "\n",
    "<table>\n",
    "  <tr>\n",
    "    <th>Data Science Tools</th>\n",
    "  </tr>\n",
    "  <tr>\n",
    "    <td>IBM Data Asset eXchange </td>\n",
    "  </tr>\n",
    "  <tr>\n",
    "    <td>Apache Spark</td>\n",
    "  </tr>\n",
    "  <tr>\n",
    "    <td>SAS</td>\n",
    "  </tr>\n",
    "</table>"
   ]
  },
  {
   "cell_type": "markdown",
   "id": "393693fa-5170-4180-bfc3-1c75ea145bf9",
   "metadata": {
    "tags": []
   },
   "source": [
    "### Below are a few examples of evaluating arithmetic expressions in Python"
   ]
  },
  {
   "cell_type": "code",
   "execution_count": 6,
   "id": "f41b70a3-ab87-496c-8021-7c75710ee23a",
   "metadata": {
    "tags": []
   },
   "outputs": [
    {
     "data": {
      "text/plain": [
       "17"
      ]
     },
     "execution_count": 6,
     "metadata": {},
     "output_type": "execute_result"
    }
   ],
   "source": [
    "# This a simple arithmetic expression to mutiply then add integers\n",
    "\n",
    "(3*4)+5\n"
   ]
  },
  {
   "cell_type": "code",
   "execution_count": 5,
   "id": "97b4dd7a-4099-4580-bdf7-ba44f5f3ba10",
   "metadata": {
    "tags": []
   },
   "outputs": [
    {
     "data": {
      "text/plain": [
       "4.166666666666667"
      ]
     },
     "execution_count": 5,
     "metadata": {},
     "output_type": "execute_result"
    }
   ],
   "source": [
    "# This will convert 200 minutes to hours by diving by 60\n",
    "\n",
    "250/60\n"
   ]
  },
  {
   "cell_type": "markdown",
   "id": "30a2fa7d-a8f0-4a0d-ac66-bc926b70677f",
   "metadata": {},
   "source": [
    "Exercise 10 : Markdown cell to list Objectives\n",
    "\n",
    "<h3> List of objectives </h3>\n",
    "<ol>\n",
    "    <li>Complete the Data Science Course</li>\n",
    "    <li>Finish the notes</li>\n",
    "    <li>Start practicing problems</li>\n",
    "</ol>\n",
    "\n"
   ]
  },
  {
   "cell_type": "markdown",
   "id": "89182974-097c-420b-9bda-17e62c3cb245",
   "metadata": {},
   "source": [
    "## Author\n",
    "Vipul Banjarey\n",
    "\n"
   ]
  },
  {
   "cell_type": "code",
   "execution_count": null,
   "id": "f0253db8-d6eb-4beb-a11e-e5648405007e",
   "metadata": {},
   "outputs": [],
   "source": []
  },
  {
   "cell_type": "code",
   "execution_count": null,
   "id": "7d4b02b7-6597-44d3-9b7f-3d6609acff7c",
   "metadata": {},
   "outputs": [],
   "source": []
  },
  {
   "cell_type": "code",
   "execution_count": null,
   "id": "ac911f03-3068-4f24-97a5-c1305295685d",
   "metadata": {},
   "outputs": [],
   "source": []
  }
 ],
 "metadata": {
  "kernelspec": {
   "display_name": "Python",
   "language": "python",
   "name": "conda-env-python-py"
  },
  "language_info": {
   "codemirror_mode": {
    "name": "ipython",
    "version": 3
   },
   "file_extension": ".py",
   "mimetype": "text/x-python",
   "name": "python",
   "nbconvert_exporter": "python",
   "pygments_lexer": "ipython3",
   "version": "3.7.12"
  }
 },
 "nbformat": 4,
 "nbformat_minor": 5
}
